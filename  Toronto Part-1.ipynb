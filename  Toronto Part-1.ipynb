{
    "nbformat": 4, 
    "metadata": {
        "language_info": {
            "pygments_lexer": "ipython3", 
            "file_extension": ".py", 
            "mimetype": "text/x-python", 
            "codemirror_mode": {
                "name": "ipython", 
                "version": 3
            }, 
            "version": "3.5.5", 
            "name": "python", 
            "nbconvert_exporter": "python"
        }, 
        "kernelspec": {
            "name": "python3", 
            "language": "python", 
            "display_name": "Python 3.5"
        }
    }, 
    "cells": [
        {
            "source": "## **Segmenting and Clustering Neighborhoods in Toronto**", 
            "metadata": {
                "collapsed": true
            }, 
            "cell_type": "markdown"
        }, 
        {
            "source": "***Before we get the data and start exploring it, let's download all the dependencies that we will need.***", 
            "metadata": {}, 
            "cell_type": "markdown"
        }, 
        {
            "source": "import numpy as np # library to handle data in a vectorized manner\n\nimport pandas as pd # library for data analsysis\npd.set_option('display.max_columns', None)\npd.set_option('display.max_rows', None)\n\nimport requests # library to handle requests\n\n# conda install -c anaconda beautiful-soup --yes\nfrom bs4 import BeautifulSoup # package for parsing HTML and XML documents\n\nimport csv # implements classes to read and write tabular data in CSV form\n\nprint('Libraries imported.')", 
            "outputs": [
                {
                    "name": "stdout", 
                    "text": "Libraries imported.\n", 
                    "output_type": "stream"
                }
            ], 
            "execution_count": 25, 
            "cell_type": "code", 
            "metadata": {}
        }, 
        {
            "source": "***To build a code to scrape the following Wikipedia Page***", 
            "metadata": {}, 
            "cell_type": "markdown"
        }, 
        {
            "source": "website_url = requests.get('https://en.wikipedia.org/wiki/List_of_postal_codes_of_Canada:_M').text\nsoup = BeautifulSoup(website_url,'lxml')\ntable = soup.find('table',{'class':'wikitable sortable'})\n#print(soup.prettify())", 
            "outputs": [], 
            "execution_count": 26, 
            "cell_type": "code", 
            "metadata": {}
        }, 
        {
            "source": "***To get columns and rows***", 
            "metadata": {}, 
            "cell_type": "markdown"
        }, 
        {
            "source": "headers = [header.text for header in table.find_all('th')]\n\ntable_rows = table.find_all('tr')        \nrows = []\nfor row in table_rows:\n   td = row.find_all('td')\n   row = [row.text for row in td]\n   rows.append(row)", 
            "outputs": [], 
            "execution_count": 27, 
            "cell_type": "code", 
            "metadata": {}
        }, 
        {
            "source": "with open('Toronto-1.csv', 'w') as f:\n   writer = csv.writer(f)\n   writer.writerow(headers)\n   writer.writerows(row for row in rows if row)", 
            "outputs": [], 
            "execution_count": 28, 
            "cell_type": "code", 
            "metadata": {}
        }, 
        {
            "source": "***Load data from Toronto-1.csv file***", 
            "metadata": {}, 
            "cell_type": "markdown"
        }, 
        {
            "source": "# Load data from CSV\ndf=pd.read_csv('Toronto-1.csv')\nprint('Data downloaded!')", 
            "outputs": [
                {
                    "name": "stdout", 
                    "text": "Data downloaded!\n", 
                    "output_type": "stream"
                }
            ], 
            "execution_count": 29, 
            "cell_type": "code", 
            "metadata": {}
        }, 
        {
            "source": "df.head()", 
            "outputs": [
                {
                    "output_type": "execute_result", 
                    "execution_count": 30, 
                    "data": {
                        "text/plain": "  Postcode           Borough     Neighbourhood\\n\n0      M1A      Not assigned      Not assigned\\n\n1      M2A      Not assigned      Not assigned\\n\n2      M3A        North York         Parkwoods\\n\n3      M4A        North York  Victoria Village\\n\n4      M5A  Downtown Toronto      Harbourfront\\n", 
                        "text/html": "<div>\n<style scoped>\n    .dataframe tbody tr th:only-of-type {\n        vertical-align: middle;\n    }\n\n    .dataframe tbody tr th {\n        vertical-align: top;\n    }\n\n    .dataframe thead th {\n        text-align: right;\n    }\n</style>\n<table border=\"1\" class=\"dataframe\">\n  <thead>\n    <tr style=\"text-align: right;\">\n      <th></th>\n      <th>Postcode</th>\n      <th>Borough</th>\n      <th>Neighbourhood</th>\n    </tr>\n  </thead>\n  <tbody>\n    <tr>\n      <th>0</th>\n      <td>M1A</td>\n      <td>Not assigned</td>\n      <td>Not assigned\\n</td>\n    </tr>\n    <tr>\n      <th>1</th>\n      <td>M2A</td>\n      <td>Not assigned</td>\n      <td>Not assigned\\n</td>\n    </tr>\n    <tr>\n      <th>2</th>\n      <td>M3A</td>\n      <td>North York</td>\n      <td>Parkwoods\\n</td>\n    </tr>\n    <tr>\n      <th>3</th>\n      <td>M4A</td>\n      <td>North York</td>\n      <td>Victoria Village\\n</td>\n    </tr>\n    <tr>\n      <th>4</th>\n      <td>M5A</td>\n      <td>Downtown Toronto</td>\n      <td>Harbourfront\\n</td>\n    </tr>\n  </tbody>\n</table>\n</div>"
                    }, 
                    "metadata": {}
                }
            ], 
            "execution_count": 30, 
            "cell_type": "code", 
            "metadata": {}
        }, 
        {
            "source": "df.shape", 
            "outputs": [
                {
                    "output_type": "execute_result", 
                    "execution_count": 31, 
                    "data": {
                        "text/plain": "(289, 3)"
                    }, 
                    "metadata": {}
                }
            ], 
            "execution_count": 31, 
            "cell_type": "code", 
            "metadata": {}
        }, 
        {
            "source": "df.columns", 
            "outputs": [
                {
                    "output_type": "execute_result", 
                    "execution_count": 32, 
                    "data": {
                        "text/plain": "Index(['Postcode', 'Borough', 'Neighbourhood\\n'], dtype='object')"
                    }, 
                    "metadata": {}
                }
            ], 
            "execution_count": 32, 
            "cell_type": "code", 
            "metadata": {}
        }, 
        {
            "source": "***Data Cleaning***", 
            "metadata": {}, 
            "cell_type": "markdown"
        }, 
        {
            "source": "#Rename Columns\ndf.rename(columns={'Neighbourhood\\n':'Neighborhood','Postcode':'PostalCode'}, inplace=True)\ndf.head()", 
            "outputs": [
                {
                    "output_type": "execute_result", 
                    "execution_count": 33, 
                    "data": {
                        "text/plain": "  PostalCode           Borough        Neighborhood\n0        M1A      Not assigned      Not assigned\\n\n1        M2A      Not assigned      Not assigned\\n\n2        M3A        North York         Parkwoods\\n\n3        M4A        North York  Victoria Village\\n\n4        M5A  Downtown Toronto      Harbourfront\\n", 
                        "text/html": "<div>\n<style scoped>\n    .dataframe tbody tr th:only-of-type {\n        vertical-align: middle;\n    }\n\n    .dataframe tbody tr th {\n        vertical-align: top;\n    }\n\n    .dataframe thead th {\n        text-align: right;\n    }\n</style>\n<table border=\"1\" class=\"dataframe\">\n  <thead>\n    <tr style=\"text-align: right;\">\n      <th></th>\n      <th>PostalCode</th>\n      <th>Borough</th>\n      <th>Neighborhood</th>\n    </tr>\n  </thead>\n  <tbody>\n    <tr>\n      <th>0</th>\n      <td>M1A</td>\n      <td>Not assigned</td>\n      <td>Not assigned\\n</td>\n    </tr>\n    <tr>\n      <th>1</th>\n      <td>M2A</td>\n      <td>Not assigned</td>\n      <td>Not assigned\\n</td>\n    </tr>\n    <tr>\n      <th>2</th>\n      <td>M3A</td>\n      <td>North York</td>\n      <td>Parkwoods\\n</td>\n    </tr>\n    <tr>\n      <th>3</th>\n      <td>M4A</td>\n      <td>North York</td>\n      <td>Victoria Village\\n</td>\n    </tr>\n    <tr>\n      <th>4</th>\n      <td>M5A</td>\n      <td>Downtown Toronto</td>\n      <td>Harbourfront\\n</td>\n    </tr>\n  </tbody>\n</table>\n</div>"
                    }, 
                    "metadata": {}
                }
            ], 
            "execution_count": 33, 
            "cell_type": "code", 
            "metadata": {}
        }, 
        {
            "source": "df['Neighborhood']=df['Neighborhood'].replace(to_replace='\\n', value='', regex=True)\ndf.head()", 
            "outputs": [
                {
                    "output_type": "execute_result", 
                    "execution_count": 34, 
                    "data": {
                        "text/plain": "  PostalCode           Borough      Neighborhood\n0        M1A      Not assigned      Not assigned\n1        M2A      Not assigned      Not assigned\n2        M3A        North York         Parkwoods\n3        M4A        North York  Victoria Village\n4        M5A  Downtown Toronto      Harbourfront", 
                        "text/html": "<div>\n<style scoped>\n    .dataframe tbody tr th:only-of-type {\n        vertical-align: middle;\n    }\n\n    .dataframe tbody tr th {\n        vertical-align: top;\n    }\n\n    .dataframe thead th {\n        text-align: right;\n    }\n</style>\n<table border=\"1\" class=\"dataframe\">\n  <thead>\n    <tr style=\"text-align: right;\">\n      <th></th>\n      <th>PostalCode</th>\n      <th>Borough</th>\n      <th>Neighborhood</th>\n    </tr>\n  </thead>\n  <tbody>\n    <tr>\n      <th>0</th>\n      <td>M1A</td>\n      <td>Not assigned</td>\n      <td>Not assigned</td>\n    </tr>\n    <tr>\n      <th>1</th>\n      <td>M2A</td>\n      <td>Not assigned</td>\n      <td>Not assigned</td>\n    </tr>\n    <tr>\n      <th>2</th>\n      <td>M3A</td>\n      <td>North York</td>\n      <td>Parkwoods</td>\n    </tr>\n    <tr>\n      <th>3</th>\n      <td>M4A</td>\n      <td>North York</td>\n      <td>Victoria Village</td>\n    </tr>\n    <tr>\n      <th>4</th>\n      <td>M5A</td>\n      <td>Downtown Toronto</td>\n      <td>Harbourfront</td>\n    </tr>\n  </tbody>\n</table>\n</div>"
                    }, 
                    "metadata": {}
                }
            ], 
            "execution_count": 34, 
            "cell_type": "code", 
            "metadata": {}
        }, 
        {
            "source": "***Ignore cells with a borough that is Not assigned***", 
            "metadata": {}, 
            "cell_type": "markdown"
        }, 
        {
            "source": "#df = df[(~df['Borough'].str.contains(\"Not assigned\"))]\ndf.drop(df[df['Borough'] == 'Not assigned'].index, inplace=True)\ndf.head()", 
            "outputs": [
                {
                    "output_type": "execute_result", 
                    "execution_count": 35, 
                    "data": {
                        "text/plain": "  PostalCode           Borough      Neighborhood\n2        M3A        North York         Parkwoods\n3        M4A        North York  Victoria Village\n4        M5A  Downtown Toronto      Harbourfront\n5        M5A  Downtown Toronto       Regent Park\n6        M6A        North York  Lawrence Heights", 
                        "text/html": "<div>\n<style scoped>\n    .dataframe tbody tr th:only-of-type {\n        vertical-align: middle;\n    }\n\n    .dataframe tbody tr th {\n        vertical-align: top;\n    }\n\n    .dataframe thead th {\n        text-align: right;\n    }\n</style>\n<table border=\"1\" class=\"dataframe\">\n  <thead>\n    <tr style=\"text-align: right;\">\n      <th></th>\n      <th>PostalCode</th>\n      <th>Borough</th>\n      <th>Neighborhood</th>\n    </tr>\n  </thead>\n  <tbody>\n    <tr>\n      <th>2</th>\n      <td>M3A</td>\n      <td>North York</td>\n      <td>Parkwoods</td>\n    </tr>\n    <tr>\n      <th>3</th>\n      <td>M4A</td>\n      <td>North York</td>\n      <td>Victoria Village</td>\n    </tr>\n    <tr>\n      <th>4</th>\n      <td>M5A</td>\n      <td>Downtown Toronto</td>\n      <td>Harbourfront</td>\n    </tr>\n    <tr>\n      <th>5</th>\n      <td>M5A</td>\n      <td>Downtown Toronto</td>\n      <td>Regent Park</td>\n    </tr>\n    <tr>\n      <th>6</th>\n      <td>M6A</td>\n      <td>North York</td>\n      <td>Lawrence Heights</td>\n    </tr>\n  </tbody>\n</table>\n</div>"
                    }, 
                    "metadata": {}
                }
            ], 
            "execution_count": 35, 
            "cell_type": "code", 
            "metadata": {}
        }, 
        {
            "source": "df.shape", 
            "outputs": [
                {
                    "output_type": "execute_result", 
                    "execution_count": 36, 
                    "data": {
                        "text/plain": "(212, 3)"
                    }, 
                    "metadata": {}
                }
            ], 
            "execution_count": 36, 
            "cell_type": "code", 
            "metadata": {}
        }, 
        {
            "source": "***More than one neighborhood can exist in one postal code area***  \n***These two rows will be combined into one row with the Neighborhoods seperated with a comma.***\n\nFor example : ***M5A*** is listed twice and has two neighborhoods : ***Harbourfront and Regent Park***", 
            "metadata": {}, 
            "cell_type": "markdown"
        }, 
        {
            "source": "df.query('PostalCode == \"M5A\"')", 
            "outputs": [
                {
                    "output_type": "execute_result", 
                    "execution_count": 37, 
                    "data": {
                        "text/plain": "  PostalCode           Borough  Neighborhood\n4        M5A  Downtown Toronto  Harbourfront\n5        M5A  Downtown Toronto   Regent Park", 
                        "text/html": "<div>\n<style scoped>\n    .dataframe tbody tr th:only-of-type {\n        vertical-align: middle;\n    }\n\n    .dataframe tbody tr th {\n        vertical-align: top;\n    }\n\n    .dataframe thead th {\n        text-align: right;\n    }\n</style>\n<table border=\"1\" class=\"dataframe\">\n  <thead>\n    <tr style=\"text-align: right;\">\n      <th></th>\n      <th>PostalCode</th>\n      <th>Borough</th>\n      <th>Neighborhood</th>\n    </tr>\n  </thead>\n  <tbody>\n    <tr>\n      <th>4</th>\n      <td>M5A</td>\n      <td>Downtown Toronto</td>\n      <td>Harbourfront</td>\n    </tr>\n    <tr>\n      <th>5</th>\n      <td>M5A</td>\n      <td>Downtown Toronto</td>\n      <td>Regent Park</td>\n    </tr>\n  </tbody>\n</table>\n</div>"
                    }, 
                    "metadata": {}
                }
            ], 
            "execution_count": 37, 
            "cell_type": "code", 
            "metadata": {}
        }, 
        {
            "source": "# Group the data by Postcode & Borough\ndf2=df.groupby(['PostalCode', 'Borough'])['Neighborhood'].apply(', '.join).reset_index()", 
            "outputs": [], 
            "execution_count": 38, 
            "cell_type": "code", 
            "metadata": {}
        }, 
        {
            "source": "df2.head(5)", 
            "outputs": [
                {
                    "output_type": "execute_result", 
                    "execution_count": 39, 
                    "data": {
                        "text/plain": "  PostalCode      Borough                            Neighborhood\n0        M1B  Scarborough                          Rouge, Malvern\n1        M1C  Scarborough  Highland Creek, Rouge Hill, Port Union\n2        M1E  Scarborough       Guildwood, Morningside, West Hill\n3        M1G  Scarborough                                  Woburn\n4        M1H  Scarborough                               Cedarbrae", 
                        "text/html": "<div>\n<style scoped>\n    .dataframe tbody tr th:only-of-type {\n        vertical-align: middle;\n    }\n\n    .dataframe tbody tr th {\n        vertical-align: top;\n    }\n\n    .dataframe thead th {\n        text-align: right;\n    }\n</style>\n<table border=\"1\" class=\"dataframe\">\n  <thead>\n    <tr style=\"text-align: right;\">\n      <th></th>\n      <th>PostalCode</th>\n      <th>Borough</th>\n      <th>Neighborhood</th>\n    </tr>\n  </thead>\n  <tbody>\n    <tr>\n      <th>0</th>\n      <td>M1B</td>\n      <td>Scarborough</td>\n      <td>Rouge, Malvern</td>\n    </tr>\n    <tr>\n      <th>1</th>\n      <td>M1C</td>\n      <td>Scarborough</td>\n      <td>Highland Creek, Rouge Hill, Port Union</td>\n    </tr>\n    <tr>\n      <th>2</th>\n      <td>M1E</td>\n      <td>Scarborough</td>\n      <td>Guildwood, Morningside, West Hill</td>\n    </tr>\n    <tr>\n      <th>3</th>\n      <td>M1G</td>\n      <td>Scarborough</td>\n      <td>Woburn</td>\n    </tr>\n    <tr>\n      <th>4</th>\n      <td>M1H</td>\n      <td>Scarborough</td>\n      <td>Cedarbrae</td>\n    </tr>\n  </tbody>\n</table>\n</div>"
                    }, 
                    "metadata": {}
                }
            ], 
            "execution_count": 39, 
            "cell_type": "code", 
            "metadata": {}
        }, 
        {
            "source": "***A cell has a borough but a Not assigned neighborhood , then the neighborhood will be the same as the borough***\n\nSo for the ***9th*** cell in the table on the Wikipedia Page , the value of Borough and the Neighborhood columns will be ***Queen's Park***", 
            "metadata": {}, 
            "cell_type": "markdown"
        }, 
        {
            "source": "df2.query('Neighborhood == \"Not assigned\"')", 
            "outputs": [
                {
                    "output_type": "execute_result", 
                    "execution_count": 40, 
                    "data": {
                        "text/plain": "   PostalCode       Borough  Neighborhood\n85        M7A  Queen's Park  Not assigned", 
                        "text/html": "<div>\n<style scoped>\n    .dataframe tbody tr th:only-of-type {\n        vertical-align: middle;\n    }\n\n    .dataframe tbody tr th {\n        vertical-align: top;\n    }\n\n    .dataframe thead th {\n        text-align: right;\n    }\n</style>\n<table border=\"1\" class=\"dataframe\">\n  <thead>\n    <tr style=\"text-align: right;\">\n      <th></th>\n      <th>PostalCode</th>\n      <th>Borough</th>\n      <th>Neighborhood</th>\n    </tr>\n  </thead>\n  <tbody>\n    <tr>\n      <th>85</th>\n      <td>M7A</td>\n      <td>Queen's Park</td>\n      <td>Not assigned</td>\n    </tr>\n  </tbody>\n</table>\n</div>"
                    }, 
                    "metadata": {}
                }
            ], 
            "execution_count": 40, 
            "cell_type": "code", 
            "metadata": {}
        }, 
        {
            "source": "df2.loc[df2.Neighborhood == 'Not assigned', \"Neighborhood\"] = df2.Borough", 
            "outputs": [], 
            "execution_count": 41, 
            "cell_type": "code", 
            "metadata": {}
        }, 
        {
            "source": "df2.query('PostalCode == \"M7A\"')", 
            "outputs": [
                {
                    "output_type": "execute_result", 
                    "execution_count": 42, 
                    "data": {
                        "text/plain": "   PostalCode       Borough  Neighborhood\n85        M7A  Queen's Park  Queen's Park", 
                        "text/html": "<div>\n<style scoped>\n    .dataframe tbody tr th:only-of-type {\n        vertical-align: middle;\n    }\n\n    .dataframe tbody tr th {\n        vertical-align: top;\n    }\n\n    .dataframe thead th {\n        text-align: right;\n    }\n</style>\n<table border=\"1\" class=\"dataframe\">\n  <thead>\n    <tr style=\"text-align: right;\">\n      <th></th>\n      <th>PostalCode</th>\n      <th>Borough</th>\n      <th>Neighborhood</th>\n    </tr>\n  </thead>\n  <tbody>\n    <tr>\n      <th>85</th>\n      <td>M7A</td>\n      <td>Queen's Park</td>\n      <td>Queen's Park</td>\n    </tr>\n  </tbody>\n</table>\n</div>"
                    }, 
                    "metadata": {}
                }
            ], 
            "execution_count": 42, 
            "cell_type": "code", 
            "metadata": {}
        }, 
        {
            "source": "***Use the .shape method to print the number of rows of dataframe***", 
            "metadata": {}, 
            "cell_type": "markdown"
        }, 
        {
            "source": "# number of rows of dataframe\ndf2.shape", 
            "outputs": [
                {
                    "output_type": "execute_result", 
                    "execution_count": 43, 
                    "data": {
                        "text/plain": "(103, 3)"
                    }, 
                    "metadata": {}
                }
            ], 
            "execution_count": 43, 
            "cell_type": "code", 
            "metadata": {}
        }, 
        {
            "source": "df2.to_csv('Toronto-2.csv')", 
            "outputs": [], 
            "execution_count": 44, 
            "cell_type": "code", 
            "metadata": {}
        }
    ], 
    "nbformat_minor": 1
}